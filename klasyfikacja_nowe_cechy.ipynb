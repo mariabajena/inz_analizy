{
 "cells": [
  {
   "cell_type": "code",
   "execution_count": null,
   "metadata": {},
   "outputs": [],
   "source": [
    "# źródło kodu: https://www.youtube.com/watch?v=0Lt9w-BxKFQ"
   ]
  },
  {
   "cell_type": "code",
   "execution_count": 160,
   "metadata": {},
   "outputs": [],
   "source": [
    "import pandas as pd\n",
    "import seaborn as sns\n",
    "import matplotlib.pyplot as plt\n",
    "from sklearn.ensemble import RandomForestClassifier\n",
    "from sklearn.svm import SVC\n",
    "from sklearn import svm\n",
    "from sklearn.neural_network import MLPClassifier\n",
    "from sklearn.metrics import confusion_matrix, classification_report\n",
    "from sklearn.preprocessing import StandardScaler, LabelEncoder\n",
    "from sklearn.model_selection import train_test_split\n",
    "%matplotlib inline"
   ]
  },
  {
   "cell_type": "code",
   "execution_count": 161,
   "metadata": {},
   "outputs": [
    {
     "data": {
      "text/html": [
       "<div>\n",
       "<style scoped>\n",
       "    .dataframe tbody tr th:only-of-type {\n",
       "        vertical-align: middle;\n",
       "    }\n",
       "\n",
       "    .dataframe tbody tr th {\n",
       "        vertical-align: top;\n",
       "    }\n",
       "\n",
       "    .dataframe thead th {\n",
       "        text-align: right;\n",
       "    }\n",
       "</style>\n",
       "<table border=\"1\" class=\"dataframe\">\n",
       "  <thead>\n",
       "    <tr style=\"text-align: right;\">\n",
       "      <th></th>\n",
       "      <th>[pos=\"depr\"&amp;head.pos=\"num\"&amp;deprel=\"comp\"]</th>\n",
       "      <th>[pos=\"depr\"&amp;head.pos=\"fin\"&amp;deprel=\"subj\"]</th>\n",
       "      <th>[pos=\"depr\"&amp;head.pos=\"praet\"&amp;deprel=\"subj\"]</th>\n",
       "      <th>[pos=\"depr\"&amp;head.pos=\"praet\"&amp;deprel=\"vocative\"]</th>\n",
       "      <th>[pos=\"depr\"&amp;head.pos=\"conj\"&amp;deprel=\"subj\"]</th>\n",
       "      <th>[pos=\"num\"&amp;head.pos=\"num\"&amp;deprel=\"comp\"]</th>\n",
       "      <th>[pos=\"num\"&amp;head.pos=\"num\"&amp;deprel=\"adjunct\"]</th>\n",
       "      <th>[pos=\"num\"&amp;head.pos=\"num\"&amp;deprel=\"mwe\"]</th>\n",
       "      <th>[pos=\"num\"&amp;head.pos=\"adv\"&amp;deprel=\"comp\"]</th>\n",
       "      <th>[pos=\"num\"&amp;head.pos=\"adv\"&amp;deprel=\"adjunct\"]</th>\n",
       "      <th>...</th>\n",
       "      <th>[pos=\"(imps)\"]</th>\n",
       "      <th>[pos=\"(impt)\"]</th>\n",
       "      <th>[pos=\"(inf)\"][pos=\"bedzie\"]</th>\n",
       "      <th>[pos=\"(inf)\"]</th>\n",
       "      <th>[pos=\"(num)\"]</th>\n",
       "      <th>[pos=\"(pact)\"]</th>\n",
       "      <th>[pos=\"(pant)\"]</th>\n",
       "      <th>[pos=\"(pcon)\"]</th>\n",
       "      <th>[pos=\"(ppas)\"]</th>\n",
       "      <th>typ</th>\n",
       "    </tr>\n",
       "  </thead>\n",
       "  <tbody>\n",
       "    <tr>\n",
       "      <th>fakt_b.txt</th>\n",
       "      <td>0</td>\n",
       "      <td>0</td>\n",
       "      <td>0</td>\n",
       "      <td>0</td>\n",
       "      <td>0</td>\n",
       "      <td>0</td>\n",
       "      <td>0</td>\n",
       "      <td>1</td>\n",
       "      <td>0</td>\n",
       "      <td>0</td>\n",
       "      <td>...</td>\n",
       "      <td>8</td>\n",
       "      <td>12</td>\n",
       "      <td>0</td>\n",
       "      <td>76</td>\n",
       "      <td>37</td>\n",
       "      <td>32</td>\n",
       "      <td>0</td>\n",
       "      <td>22</td>\n",
       "      <td>48</td>\n",
       "      <td>fakt</td>\n",
       "    </tr>\n",
       "    <tr>\n",
       "      <th>fakt_ba.txt</th>\n",
       "      <td>0</td>\n",
       "      <td>0</td>\n",
       "      <td>0</td>\n",
       "      <td>0</td>\n",
       "      <td>0</td>\n",
       "      <td>0</td>\n",
       "      <td>0</td>\n",
       "      <td>0</td>\n",
       "      <td>0</td>\n",
       "      <td>0</td>\n",
       "      <td>...</td>\n",
       "      <td>1</td>\n",
       "      <td>4</td>\n",
       "      <td>0</td>\n",
       "      <td>85</td>\n",
       "      <td>39</td>\n",
       "      <td>14</td>\n",
       "      <td>2</td>\n",
       "      <td>13</td>\n",
       "      <td>40</td>\n",
       "      <td>fakt</td>\n",
       "    </tr>\n",
       "    <tr>\n",
       "      <th>fakt_baa.txt</th>\n",
       "      <td>0</td>\n",
       "      <td>0</td>\n",
       "      <td>0</td>\n",
       "      <td>0</td>\n",
       "      <td>0</td>\n",
       "      <td>0</td>\n",
       "      <td>0</td>\n",
       "      <td>0</td>\n",
       "      <td>0</td>\n",
       "      <td>1</td>\n",
       "      <td>...</td>\n",
       "      <td>15</td>\n",
       "      <td>5</td>\n",
       "      <td>0</td>\n",
       "      <td>93</td>\n",
       "      <td>26</td>\n",
       "      <td>20</td>\n",
       "      <td>0</td>\n",
       "      <td>14</td>\n",
       "      <td>35</td>\n",
       "      <td>fakt</td>\n",
       "    </tr>\n",
       "    <tr>\n",
       "      <th>fakt_bab.txt</th>\n",
       "      <td>0</td>\n",
       "      <td>0</td>\n",
       "      <td>0</td>\n",
       "      <td>0</td>\n",
       "      <td>0</td>\n",
       "      <td>0</td>\n",
       "      <td>0</td>\n",
       "      <td>0</td>\n",
       "      <td>0</td>\n",
       "      <td>0</td>\n",
       "      <td>...</td>\n",
       "      <td>22</td>\n",
       "      <td>0</td>\n",
       "      <td>0</td>\n",
       "      <td>61</td>\n",
       "      <td>44</td>\n",
       "      <td>24</td>\n",
       "      <td>4</td>\n",
       "      <td>21</td>\n",
       "      <td>52</td>\n",
       "      <td>fakt</td>\n",
       "    </tr>\n",
       "    <tr>\n",
       "      <th>fakt_bac.txt</th>\n",
       "      <td>0</td>\n",
       "      <td>0</td>\n",
       "      <td>0</td>\n",
       "      <td>0</td>\n",
       "      <td>0</td>\n",
       "      <td>0</td>\n",
       "      <td>0</td>\n",
       "      <td>0</td>\n",
       "      <td>0</td>\n",
       "      <td>0</td>\n",
       "      <td>...</td>\n",
       "      <td>4</td>\n",
       "      <td>7</td>\n",
       "      <td>0</td>\n",
       "      <td>51</td>\n",
       "      <td>30</td>\n",
       "      <td>38</td>\n",
       "      <td>1</td>\n",
       "      <td>15</td>\n",
       "      <td>86</td>\n",
       "      <td>fakt</td>\n",
       "    </tr>\n",
       "  </tbody>\n",
       "</table>\n",
       "<p>5 rows × 1188 columns</p>\n",
       "</div>"
      ],
      "text/plain": [
       "              [pos=\"depr\"&head.pos=\"num\"&deprel=\"comp\"]  \\\n",
       "fakt_b.txt                                            0   \n",
       "fakt_ba.txt                                           0   \n",
       "fakt_baa.txt                                          0   \n",
       "fakt_bab.txt                                          0   \n",
       "fakt_bac.txt                                          0   \n",
       "\n",
       "              [pos=\"depr\"&head.pos=\"fin\"&deprel=\"subj\"]  \\\n",
       "fakt_b.txt                                            0   \n",
       "fakt_ba.txt                                           0   \n",
       "fakt_baa.txt                                          0   \n",
       "fakt_bab.txt                                          0   \n",
       "fakt_bac.txt                                          0   \n",
       "\n",
       "              [pos=\"depr\"&head.pos=\"praet\"&deprel=\"subj\"]  \\\n",
       "fakt_b.txt                                              0   \n",
       "fakt_ba.txt                                             0   \n",
       "fakt_baa.txt                                            0   \n",
       "fakt_bab.txt                                            0   \n",
       "fakt_bac.txt                                            0   \n",
       "\n",
       "              [pos=\"depr\"&head.pos=\"praet\"&deprel=\"vocative\"]  \\\n",
       "fakt_b.txt                                                  0   \n",
       "fakt_ba.txt                                                 0   \n",
       "fakt_baa.txt                                                0   \n",
       "fakt_bab.txt                                                0   \n",
       "fakt_bac.txt                                                0   \n",
       "\n",
       "              [pos=\"depr\"&head.pos=\"conj\"&deprel=\"subj\"]  \\\n",
       "fakt_b.txt                                             0   \n",
       "fakt_ba.txt                                            0   \n",
       "fakt_baa.txt                                           0   \n",
       "fakt_bab.txt                                           0   \n",
       "fakt_bac.txt                                           0   \n",
       "\n",
       "              [pos=\"num\"&head.pos=\"num\"&deprel=\"comp\"]  \\\n",
       "fakt_b.txt                                           0   \n",
       "fakt_ba.txt                                          0   \n",
       "fakt_baa.txt                                         0   \n",
       "fakt_bab.txt                                         0   \n",
       "fakt_bac.txt                                         0   \n",
       "\n",
       "              [pos=\"num\"&head.pos=\"num\"&deprel=\"adjunct\"]  \\\n",
       "fakt_b.txt                                              0   \n",
       "fakt_ba.txt                                             0   \n",
       "fakt_baa.txt                                            0   \n",
       "fakt_bab.txt                                            0   \n",
       "fakt_bac.txt                                            0   \n",
       "\n",
       "              [pos=\"num\"&head.pos=\"num\"&deprel=\"mwe\"]  \\\n",
       "fakt_b.txt                                          1   \n",
       "fakt_ba.txt                                         0   \n",
       "fakt_baa.txt                                        0   \n",
       "fakt_bab.txt                                        0   \n",
       "fakt_bac.txt                                        0   \n",
       "\n",
       "              [pos=\"num\"&head.pos=\"adv\"&deprel=\"comp\"]  \\\n",
       "fakt_b.txt                                           0   \n",
       "fakt_ba.txt                                          0   \n",
       "fakt_baa.txt                                         0   \n",
       "fakt_bab.txt                                         0   \n",
       "fakt_bac.txt                                         0   \n",
       "\n",
       "              [pos=\"num\"&head.pos=\"adv\"&deprel=\"adjunct\"]  ...  \\\n",
       "fakt_b.txt                                              0  ...   \n",
       "fakt_ba.txt                                             0  ...   \n",
       "fakt_baa.txt                                            1  ...   \n",
       "fakt_bab.txt                                            0  ...   \n",
       "fakt_bac.txt                                            0  ...   \n",
       "\n",
       "              [pos=\"(imps)\"]  [pos=\"(impt)\"]  [pos=\"(inf)\"][pos=\"bedzie\"]  \\\n",
       "fakt_b.txt                 8              12                            0   \n",
       "fakt_ba.txt                1               4                            0   \n",
       "fakt_baa.txt              15               5                            0   \n",
       "fakt_bab.txt              22               0                            0   \n",
       "fakt_bac.txt               4               7                            0   \n",
       "\n",
       "              [pos=\"(inf)\"]  [pos=\"(num)\"]  [pos=\"(pact)\"]  [pos=\"(pant)\"]  \\\n",
       "fakt_b.txt               76             37              32               0   \n",
       "fakt_ba.txt              85             39              14               2   \n",
       "fakt_baa.txt             93             26              20               0   \n",
       "fakt_bab.txt             61             44              24               4   \n",
       "fakt_bac.txt             51             30              38               1   \n",
       "\n",
       "              [pos=\"(pcon)\"]  [pos=\"(ppas)\"]   typ  \n",
       "fakt_b.txt                22              48  fakt  \n",
       "fakt_ba.txt               13              40  fakt  \n",
       "fakt_baa.txt              14              35  fakt  \n",
       "fakt_bab.txt              21              52  fakt  \n",
       "fakt_bac.txt              15              86  fakt  \n",
       "\n",
       "[5 rows x 1188 columns]"
      ]
     },
     "execution_count": 161,
     "metadata": {},
     "output_type": "execute_result"
    }
   ],
   "source": [
    "#loading dataset\n",
    "typologia=pd.read_csv(\"C:/Users/Maria/Documents/wyniki/1507/typologia_Bajena1307v4.csv\", index_col=0, sep=';')\n",
    "df = pd.DataFrame(typologia)\n",
    "df.head()"
   ]
  },
  {
   "cell_type": "code",
   "execution_count": 162,
   "metadata": {},
   "outputs": [
    {
     "name": "stdout",
     "output_type": "stream",
     "text": [
      "<class 'pandas.core.frame.DataFrame'>\n",
      "Index: 1325 entries, fakt_b.txt to urzed_jj.txt\n",
      "Columns: 1188 entries, [pos=\"depr\"&head.pos=\"num\"&deprel=\"comp\"] to typ\n",
      "dtypes: float64(1), int64(1186), object(1)\n",
      "memory usage: 12.0+ MB\n"
     ]
    }
   ],
   "source": [
    "df.info()"
   ]
  },
  {
   "cell_type": "code",
   "execution_count": 163,
   "metadata": {},
   "outputs": [
    {
     "data": {
      "text/plain": [
       "array(['fakt', 'infpor', 'konwers', 'lit', 'ndksiazka', 'netinterakt',\n",
       "       'net_nieint', 'nklasksiazka', 'publ', 'qmow', 'urzed'],\n",
       "      dtype=object)"
      ]
     },
     "execution_count": 163,
     "metadata": {},
     "output_type": "execute_result"
    }
   ],
   "source": [
    "df['typ'].unique()"
   ]
  },
  {
   "cell_type": "code",
   "execution_count": 164,
   "metadata": {},
   "outputs": [],
   "source": [
    "label_typ=LabelEncoder()"
   ]
  },
  {
   "cell_type": "code",
   "execution_count": 165,
   "metadata": {},
   "outputs": [],
   "source": [
    "df['typ'] = label_typ.fit_transform(df['typ'])"
   ]
  },
  {
   "cell_type": "code",
   "execution_count": 166,
   "metadata": {},
   "outputs": [
    {
     "data": {
      "text/plain": [
       "8     175\n",
       "10    150\n",
       "9     150\n",
       "6     150\n",
       "1     150\n",
       "3     149\n",
       "2     141\n",
       "0     105\n",
       "4      93\n",
       "5      37\n",
       "7      25\n",
       "Name: typ, dtype: int64"
      ]
     },
     "execution_count": 166,
     "metadata": {},
     "output_type": "execute_result"
    }
   ],
   "source": [
    "df['typ'].value_counts()"
   ]
  },
  {
   "cell_type": "code",
   "execution_count": 167,
   "metadata": {},
   "outputs": [
    {
     "data": {
      "text/plain": [
       "<matplotlib.axes._subplots.AxesSubplot at 0x1e381b2d240>"
      ]
     },
     "execution_count": 167,
     "metadata": {},
     "output_type": "execute_result"
    },
    {
     "data": {
      "image/png": "[encoded data removed]",
      "text/plain": [
       "<Figure size 432x288 with 1 Axes>"
      ]
     },
     "metadata": {
      "needs_background": "light"
     },
     "output_type": "display_data"
    }
   ],
   "source": [
    "sns.countplot(df['typ'])"
   ]
  },
  {
   "cell_type": "code",
   "execution_count": 168,
   "metadata": {},
   "outputs": [],
   "source": [
    "#Now separate the dataset as response variable and feature variables\n",
    "X = df.drop('typ', axis=1)\n",
    "y = df['typ']"
   ]
  },
  {
   "cell_type": "code",
   "execution_count": 169,
   "metadata": {},
   "outputs": [],
   "source": [
    "#Train and Test splitting of data\n",
    "X_train, X_test, y_train, y_test = train_test_split(X, y, test_size = 0.3, random_state = 42)"
   ]
  },
  {
   "cell_type": "code",
   "execution_count": 170,
   "metadata": {},
   "outputs": [
    {
     "name": "stderr",
     "output_type": "stream",
     "text": [
      "C:\\Users\\Maria\\AppData\\Local\\Continuum\\anaconda3\\lib\\site-packages\\sklearn\\preprocessing\\data.py:645: DataConversionWarning: Data with input dtype int64, float64 were all converted to float64 by StandardScaler.\n",
      "  return self.partial_fit(X, y)\n",
      "C:\\Users\\Maria\\AppData\\Local\\Continuum\\anaconda3\\lib\\site-packages\\sklearn\\base.py:464: DataConversionWarning: Data with input dtype int64, float64 were all converted to float64 by StandardScaler.\n",
      "  return self.fit(X, **fit_params).transform(X)\n",
      "C:\\Users\\Maria\\AppData\\Local\\Continuum\\anaconda3\\lib\\site-packages\\ipykernel_launcher.py:4: DataConversionWarning: Data with input dtype int64, float64 were all converted to float64 by StandardScaler.\n",
      "  after removing the cwd from sys.path.\n"
     ]
    }
   ],
   "source": [
    "#Applying Standard scaling to get optimized results\n",
    "sc = StandardScaler()\n",
    "X_train = sc.fit_transform(X_train)\n",
    "X_test = sc.transform(X_test)"
   ]
  },
  {
   "cell_type": "code",
   "execution_count": 171,
   "metadata": {},
   "outputs": [
    {
     "data": {
      "text/plain": [
       "array([[ 0.        , -0.2785912 , -0.21486752, ..., -0.43261828,\n",
       "        -0.46581861, -0.75807182],\n",
       "       [ 0.        , -0.2785912 , -0.21486752, ..., -0.43261828,\n",
       "         0.00766149, -0.28852696],\n",
       "       [ 0.        , -0.2785912 , -0.21486752, ..., -0.43261828,\n",
       "        -1.4127788 ,  1.35488005],\n",
       "       ...,\n",
       "       [ 0.        , -0.2785912 , -0.21486752, ..., -0.43261828,\n",
       "        -1.4127788 , -1.49173566],\n",
       "       [ 0.        , -0.2785912 , -0.21486752, ...,  1.36979585,\n",
       "         1.66484183, -0.5819925 ],\n",
       "       [ 0.        , -0.2785912 , -0.21486752, ..., -0.43261828,\n",
       "        -1.29440878, -1.05153736]])"
      ]
     },
     "execution_count": 171,
     "metadata": {},
     "output_type": "execute_result"
    }
   ],
   "source": [
    "X_train[:10]"
   ]
  },
  {
   "cell_type": "markdown",
   "metadata": {},
   "source": [
    "# Random Forest Classifier"
   ]
  },
  {
   "cell_type": "code",
   "execution_count": 172,
   "metadata": {},
   "outputs": [],
   "source": [
    "rfc = RandomForestClassifier(n_estimators=200)\n",
    "rfc.fit(X_train, y_train)\n",
    "pred_rfc = rfc.predict(X_test)"
   ]
  },
  {
   "cell_type": "code",
   "execution_count": 173,
   "metadata": {},
   "outputs": [
    {
     "name": "stdout",
     "output_type": "stream",
     "text": [
      "              precision    recall  f1-score   support\n",
      "\n",
      "           0       0.61      0.76      0.68        25\n",
      "           1       0.87      0.98      0.92        42\n",
      "           2       1.00      1.00      1.00        56\n",
      "           3       0.85      0.87      0.86        47\n",
      "           4       0.87      0.82      0.84        33\n",
      "           5       0.00      0.00      0.00         8\n",
      "           6       0.88      0.95      0.92        40\n",
      "           7       0.00      0.00      0.00         7\n",
      "           8       0.79      0.82      0.81        56\n",
      "           9       1.00      1.00      1.00        42\n",
      "          10       1.00      1.00      1.00        42\n",
      "\n",
      "   micro avg       0.88      0.88      0.88       398\n",
      "   macro avg       0.72      0.75      0.73       398\n",
      "weighted avg       0.86      0.88      0.87       398\n",
      "\n",
      "[[19  1  0  5  0  0  0  0  0  0  0]\n",
      " [ 0 41  0  0  0  0  0  0  1  0  0]\n",
      " [ 0  0 56  0  0  0  0  0  0  0  0]\n",
      " [ 3  0  0 41  0  0  3  0  0  0  0]\n",
      " [ 3  2  0  0 27  0  0  0  1  0  0]\n",
      " [ 0  1  0  0  1  0  1  0  5  0  0]\n",
      " [ 1  0  0  1  0  0 38  0  0  0  0]\n",
      " [ 1  0  0  0  1  0  0  0  5  0  0]\n",
      " [ 4  2  0  1  2  0  1  0 46  0  0]\n",
      " [ 0  0  0  0  0  0  0  0  0 42  0]\n",
      " [ 0  0  0  0  0  0  0  0  0  0 42]]\n"
     ]
    },
    {
     "name": "stderr",
     "output_type": "stream",
     "text": [
      "C:\\Users\\Maria\\AppData\\Local\\Continuum\\anaconda3\\lib\\site-packages\\sklearn\\metrics\\classification.py:1143: UndefinedMetricWarning: Precision and F-score are ill-defined and being set to 0.0 in labels with no predicted samples.\n",
      "  'precision', 'predicted', average, warn_for)\n"
     ]
    }
   ],
   "source": [
    "#How well the model performed\n",
    "print(classification_report(y_test, pred_rfc))\n",
    "print(confusion_matrix(y_test, pred_rfc))"
   ]
  },
  {
   "cell_type": "markdown",
   "metadata": {},
   "source": [
    "# SVM Classifier"
   ]
  },
  {
   "cell_type": "code",
   "execution_count": 174,
   "metadata": {},
   "outputs": [
    {
     "name": "stderr",
     "output_type": "stream",
     "text": [
      "C:\\Users\\Maria\\AppData\\Local\\Continuum\\anaconda3\\lib\\site-packages\\sklearn\\svm\\base.py:196: FutureWarning: The default value of gamma will change from 'auto' to 'scale' in version 0.22 to account better for unscaled features. Set gamma explicitly to 'auto' or 'scale' to avoid this warning.\n",
      "  \"avoid this warning.\", FutureWarning)\n"
     ]
    }
   ],
   "source": [
    "clf=svm.SVC()\n",
    "clf.fit(X_train, y_train)\n",
    "pred_clf = clf.predict(X_test)"
   ]
  },
  {
   "cell_type": "code",
   "execution_count": 175,
   "metadata": {},
   "outputs": [
    {
     "name": "stdout",
     "output_type": "stream",
     "text": [
      "              precision    recall  f1-score   support\n",
      "\n",
      "           0       0.58      0.72      0.64        25\n",
      "           1       0.90      0.88      0.89        42\n",
      "           2       1.00      0.95      0.97        56\n",
      "           3       0.91      0.85      0.88        47\n",
      "           4       0.93      0.79      0.85        33\n",
      "           5       0.00      0.00      0.00         8\n",
      "           6       0.63      0.93      0.75        40\n",
      "           7       0.00      0.00      0.00         7\n",
      "           8       0.70      0.77      0.74        56\n",
      "           9       1.00      0.93      0.96        42\n",
      "          10       1.00      1.00      1.00        42\n",
      "\n",
      "   micro avg       0.84      0.84      0.84       398\n",
      "   macro avg       0.70      0.71      0.70       398\n",
      "weighted avg       0.83      0.84      0.83       398\n",
      "\n",
      "[[18  0  0  3  0  0  2  0  2  0  0]\n",
      " [ 0 37  0  0  0  0  2  0  3  0  0]\n",
      " [ 0  0 53  0  0  0  3  0  0  0  0]\n",
      " [ 5  0  0 40  0  0  2  0  0  0  0]\n",
      " [ 2  1  0  0 26  0  3  0  1  0  0]\n",
      " [ 0  0  0  0  0  0  3  0  5  0  0]\n",
      " [ 0  0  0  1  0  0 37  0  2  0  0]\n",
      " [ 1  0  0  0  1  0  2  0  3  0  0]\n",
      " [ 5  3  0  0  0  0  5  0 43  0  0]\n",
      " [ 0  0  0  0  1  0  0  0  2 39  0]\n",
      " [ 0  0  0  0  0  0  0  0  0  0 42]]\n"
     ]
    },
    {
     "name": "stderr",
     "output_type": "stream",
     "text": [
      "C:\\Users\\Maria\\AppData\\Local\\Continuum\\anaconda3\\lib\\site-packages\\sklearn\\metrics\\classification.py:1143: UndefinedMetricWarning: Precision and F-score are ill-defined and being set to 0.0 in labels with no predicted samples.\n",
      "  'precision', 'predicted', average, warn_for)\n"
     ]
    }
   ],
   "source": [
    "#How well the model performed\n",
    "print(classification_report(y_test, pred_clf))\n",
    "print(confusion_matrix(y_test, pred_clf))"
   ]
  },
  {
   "cell_type": "markdown",
   "metadata": {},
   "source": [
    "# Neural Network"
   ]
  },
  {
   "cell_type": "code",
   "execution_count": 176,
   "metadata": {},
   "outputs": [],
   "source": [
    "mlpc=MLPClassifier(hidden_layer_sizes=(50,50,50), max_iter=10000)\n",
    "mlpc.fit(X_train, y_train)\n",
    "pred_mlpc = mlpc.predict(X_test)"
   ]
  },
  {
   "cell_type": "code",
   "execution_count": 177,
   "metadata": {},
   "outputs": [
    {
     "name": "stdout",
     "output_type": "stream",
     "text": [
      "              precision    recall  f1-score   support\n",
      "\n",
      "           0       0.43      0.64      0.52        25\n",
      "           1       0.76      0.93      0.84        42\n",
      "           2       0.98      0.98      0.98        56\n",
      "           3       0.84      0.81      0.83        47\n",
      "           4       0.83      0.76      0.79        33\n",
      "           5       0.40      0.25      0.31         8\n",
      "           6       0.95      0.88      0.91        40\n",
      "           7       0.25      0.14      0.18         7\n",
      "           8       0.80      0.73      0.77        56\n",
      "           9       1.00      0.95      0.98        42\n",
      "          10       1.00      1.00      1.00        42\n",
      "\n",
      "   micro avg       0.84      0.84      0.84       398\n",
      "   macro avg       0.75      0.73      0.74       398\n",
      "weighted avg       0.85      0.84      0.84       398\n",
      "\n",
      "[[16  0  0  5  0  0  0  2  2  0  0]\n",
      " [ 0 39  0  0  0  2  0  0  1  0  0]\n",
      " [ 0  1 55  0  0  0  0  0  0  0  0]\n",
      " [ 7  0  1 38  0  0  1  0  0  0  0]\n",
      " [ 4  2  0  0 25  1  0  0  1  0  0]\n",
      " [ 1  1  0  0  1  2  0  0  3  0  0]\n",
      " [ 1  1  0  1  0  0 35  1  1  0  0]\n",
      " [ 2  0  0  0  2  0  0  1  2  0  0]\n",
      " [ 6  7  0  1  0  0  1  0 41  0  0]\n",
      " [ 0  0  0  0  2  0  0  0  0 40  0]\n",
      " [ 0  0  0  0  0  0  0  0  0  0 42]]\n"
     ]
    }
   ],
   "source": [
    "#How well the model performed\n",
    "print(classification_report(y_test, pred_mlpc))\n",
    "print(confusion_matrix(y_test, pred_mlpc))"
   ]
  },
  {
   "cell_type": "code",
   "execution_count": null,
   "metadata": {},
   "outputs": [],
   "source": []
  },
  {
   "cell_type": "markdown",
   "metadata": {},
   "source": [
    "# Bayes"
   ]
  },
  {
   "cell_type": "code",
   "execution_count": 178,
   "metadata": {},
   "outputs": [
    {
     "name": "stdout",
     "output_type": "stream",
     "text": [
      "BernoulliNB(alpha=1.0, binarize=True, class_prior=None, fit_prior=True)\n"
     ]
    }
   ],
   "source": [
    "from sklearn.naive_bayes import BernoulliNB\n",
    "BernNB = BernoulliNB(binarize = True)\n",
    "BernNB.fit(X_train, y_train)\n",
    "print(BernNB)"
   ]
  },
  {
   "cell_type": "code",
   "execution_count": 179,
   "metadata": {},
   "outputs": [],
   "source": [
    "y_expect = y_test\n",
    "pred_NB = BernNB.predict(X_test)"
   ]
  },
  {
   "cell_type": "markdown",
   "metadata": {},
   "source": [
    "# Accuracy Results Summary"
   ]
  },
  {
   "cell_type": "code",
   "execution_count": 180,
   "metadata": {},
   "outputs": [
    {
     "name": "stdout",
     "output_type": "stream",
     "text": [
      "Accuracy Random Forest:  0.8844221105527639\n",
      "Accuracy SVM:  0.8417085427135679\n",
      "Accuracy Neural Network:  0.8391959798994975\n",
      "Accuracy Bayes:  0.8567839195979899\n"
     ]
    }
   ],
   "source": [
    "from sklearn.metrics import accuracy_score\n",
    "accuracy_rfc = accuracy_score(y_test, pred_rfc)\n",
    "accuracy_clf = accuracy_score(y_test, pred_clf)\n",
    "accuracy_mlpc = accuracy_score(y_test, pred_mlpc)\n",
    "accuracy_NB = accuracy_score(y_test, pred_NB)\n",
    "\n",
    "print(\"Accuracy Random Forest: \", accuracy_rfc)\n",
    "print(\"Accuracy SVM: \", accuracy_clf)\n",
    "print(\"Accuracy Neural Network: \", accuracy_mlpc)\n",
    "print(\"Accuracy Bayes: \", accuracy_NB)"
   ]
  }
 ],
 "metadata": {
  "kernelspec": {
   "display_name": "Python 3",
   "language": "python",
   "name": "python3"
  },
  "language_info": {
   "codemirror_mode": {
    "name": "ipython",
    "version": 3
   },
   "file_extension": ".py",
   "mimetype": "text/x-python",
   "name": "python",
   "nbconvert_exporter": "python",
   "pygments_lexer": "ipython3",
   "version": "3.7.3"
  }
 },
 "nbformat": 4,
 "nbformat_minor": 2
}
