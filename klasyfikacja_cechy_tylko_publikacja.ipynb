{
 "cells": [
  {
   "cell_type": "code",
   "execution_count": null,
   "metadata": {},
   "outputs": [],
   "source": [
    "# źródło kodu: https://www.youtube.com/watch?v=0Lt9w-BxKFQ"
   ]
  },
  {
   "cell_type": "code",
   "execution_count": 1,
   "metadata": {},
   "outputs": [],
   "source": [
    "import pandas as pd\n",
    "import seaborn as sns\n",
    "import matplotlib.pyplot as plt\n",
    "from sklearn.ensemble import RandomForestClassifier\n",
    "from sklearn.svm import SVC\n",
    "from sklearn import svm\n",
    "from sklearn.neural_network import MLPClassifier\n",
    "from sklearn.metrics import confusion_matrix, classification_report\n",
    "from sklearn.preprocessing import StandardScaler, LabelEncoder\n",
    "from sklearn.model_selection import train_test_split\n",
    "%matplotlib inline"
   ]
  },
  {
   "cell_type": "code",
   "execution_count": 2,
   "metadata": {},
   "outputs": [
    {
     "data": {
      "text/html": [
       "<div>\n",
       "<style scoped>\n",
       "    .dataframe tbody tr th:only-of-type {\n",
       "        vertical-align: middle;\n",
       "    }\n",
       "\n",
       "    .dataframe tbody tr th {\n",
       "        vertical-align: top;\n",
       "    }\n",
       "\n",
       "    .dataframe thead th {\n",
       "        text-align: right;\n",
       "    }\n",
       "</style>\n",
       "<table border=\"1\" class=\"dataframe\">\n",
       "  <thead>\n",
       "    <tr style=\"text-align: right;\">\n",
       "      <th></th>\n",
       "      <th>[person=\"(pri)\"]</th>\n",
       "      <th>[person=\"(sec)\"]</th>\n",
       "      <th>[case=\"(nom)\"]</th>\n",
       "      <th>[case=\"(gen)\"]</th>\n",
       "      <th>[case=\"(dat)\"]</th>\n",
       "      <th>[case=\"(acc)\"]</th>\n",
       "      <th>[case=\"(inst)\"]</th>\n",
       "      <th>[case=\"(loc)\"]</th>\n",
       "      <th>[case=\"(voc)\"]</th>\n",
       "      <th>[pos=\"(adj)\"][degree=\"(com)\"]</th>\n",
       "      <th>...</th>\n",
       "      <th>[orth=\"(;)\"]</th>\n",
       "      <th>[orth=\"(;)\"][orth=\"(aby)\"]</th>\n",
       "      <th>[orth=\"(;)\"][orth=\"(albowiem)\"]</th>\n",
       "      <th>[orth=\"(;)\"][orth=\"(bowiem)\"]</th>\n",
       "      <th>[orth=\"(;)\"][orth=\"(by)\"]</th>\n",
       "      <th>[orth=\"(;)\"][orth=\"(iĹĽ)\"]</th>\n",
       "      <th>[orth=\"(;)\"][orth=\"(ktĂłry)\"]</th>\n",
       "      <th>[orth=\"(;)\"][orth=\"(ĹĽe)\"]</th>\n",
       "      <th>[orth=\"(;)\"][orth=\"(ĹĽeby)\"]</th>\n",
       "      <th>typ</th>\n",
       "    </tr>\n",
       "  </thead>\n",
       "  <tbody>\n",
       "    <tr>\n",
       "      <th>fakt_b</th>\n",
       "      <td>70</td>\n",
       "      <td>24</td>\n",
       "      <td>647</td>\n",
       "      <td>930</td>\n",
       "      <td>78</td>\n",
       "      <td>490</td>\n",
       "      <td>304</td>\n",
       "      <td>341</td>\n",
       "      <td>9</td>\n",
       "      <td>1</td>\n",
       "      <td>...</td>\n",
       "      <td>301</td>\n",
       "      <td>2</td>\n",
       "      <td>0</td>\n",
       "      <td>0</td>\n",
       "      <td>5</td>\n",
       "      <td>1</td>\n",
       "      <td>6</td>\n",
       "      <td>30</td>\n",
       "      <td>4</td>\n",
       "      <td>fakt</td>\n",
       "    </tr>\n",
       "    <tr>\n",
       "      <th>fakt_ba</th>\n",
       "      <td>35</td>\n",
       "      <td>9</td>\n",
       "      <td>770</td>\n",
       "      <td>700</td>\n",
       "      <td>52</td>\n",
       "      <td>491</td>\n",
       "      <td>211</td>\n",
       "      <td>362</td>\n",
       "      <td>4</td>\n",
       "      <td>0</td>\n",
       "      <td>...</td>\n",
       "      <td>388</td>\n",
       "      <td>0</td>\n",
       "      <td>0</td>\n",
       "      <td>0</td>\n",
       "      <td>0</td>\n",
       "      <td>0</td>\n",
       "      <td>7</td>\n",
       "      <td>45</td>\n",
       "      <td>7</td>\n",
       "      <td>fakt</td>\n",
       "    </tr>\n",
       "    <tr>\n",
       "      <th>fakt_baa</th>\n",
       "      <td>141</td>\n",
       "      <td>47</td>\n",
       "      <td>592</td>\n",
       "      <td>676</td>\n",
       "      <td>68</td>\n",
       "      <td>497</td>\n",
       "      <td>251</td>\n",
       "      <td>435</td>\n",
       "      <td>5</td>\n",
       "      <td>0</td>\n",
       "      <td>...</td>\n",
       "      <td>477</td>\n",
       "      <td>5</td>\n",
       "      <td>0</td>\n",
       "      <td>0</td>\n",
       "      <td>0</td>\n",
       "      <td>0</td>\n",
       "      <td>7</td>\n",
       "      <td>41</td>\n",
       "      <td>3</td>\n",
       "      <td>fakt</td>\n",
       "    </tr>\n",
       "    <tr>\n",
       "      <th>fakt_bab</th>\n",
       "      <td>20</td>\n",
       "      <td>0</td>\n",
       "      <td>529</td>\n",
       "      <td>904</td>\n",
       "      <td>46</td>\n",
       "      <td>538</td>\n",
       "      <td>285</td>\n",
       "      <td>461</td>\n",
       "      <td>2</td>\n",
       "      <td>0</td>\n",
       "      <td>...</td>\n",
       "      <td>308</td>\n",
       "      <td>3</td>\n",
       "      <td>0</td>\n",
       "      <td>0</td>\n",
       "      <td>0</td>\n",
       "      <td>0</td>\n",
       "      <td>0</td>\n",
       "      <td>30</td>\n",
       "      <td>0</td>\n",
       "      <td>fakt</td>\n",
       "    </tr>\n",
       "    <tr>\n",
       "      <th>fakt_bac</th>\n",
       "      <td>79</td>\n",
       "      <td>5</td>\n",
       "      <td>685</td>\n",
       "      <td>850</td>\n",
       "      <td>74</td>\n",
       "      <td>523</td>\n",
       "      <td>243</td>\n",
       "      <td>396</td>\n",
       "      <td>5</td>\n",
       "      <td>1</td>\n",
       "      <td>...</td>\n",
       "      <td>459</td>\n",
       "      <td>1</td>\n",
       "      <td>0</td>\n",
       "      <td>0</td>\n",
       "      <td>1</td>\n",
       "      <td>0</td>\n",
       "      <td>8</td>\n",
       "      <td>21</td>\n",
       "      <td>0</td>\n",
       "      <td>fakt</td>\n",
       "    </tr>\n",
       "  </tbody>\n",
       "</table>\n",
       "<p>5 rows × 55 columns</p>\n",
       "</div>"
      ],
      "text/plain": [
       "          [person=\"(pri)\"]  [person=\"(sec)\"]  [case=\"(nom)\"]  [case=\"(gen)\"]  \\\n",
       "fakt_b                  70                24             647             930   \n",
       "fakt_ba                 35                 9             770             700   \n",
       "fakt_baa               141                47             592             676   \n",
       "fakt_bab                20                 0             529             904   \n",
       "fakt_bac                79                 5             685             850   \n",
       "\n",
       "          [case=\"(dat)\"]  [case=\"(acc)\"]  [case=\"(inst)\"]  [case=\"(loc)\"]  \\\n",
       "fakt_b                78             490              304             341   \n",
       "fakt_ba               52             491              211             362   \n",
       "fakt_baa              68             497              251             435   \n",
       "fakt_bab              46             538              285             461   \n",
       "fakt_bac              74             523              243             396   \n",
       "\n",
       "          [case=\"(voc)\"]  [pos=\"(adj)\"][degree=\"(com)\"]  ...  [orth=\"(;)\"]  \\\n",
       "fakt_b                 9                              1  ...           301   \n",
       "fakt_ba                4                              0  ...           388   \n",
       "fakt_baa               5                              0  ...           477   \n",
       "fakt_bab               2                              0  ...           308   \n",
       "fakt_bac               5                              1  ...           459   \n",
       "\n",
       "          [orth=\"(;)\"][orth=\"(aby)\"]  [orth=\"(;)\"][orth=\"(albowiem)\"]  \\\n",
       "fakt_b                             2                                0   \n",
       "fakt_ba                            0                                0   \n",
       "fakt_baa                           5                                0   \n",
       "fakt_bab                           3                                0   \n",
       "fakt_bac                           1                                0   \n",
       "\n",
       "          [orth=\"(;)\"][orth=\"(bowiem)\"]  [orth=\"(;)\"][orth=\"(by)\"]  \\\n",
       "fakt_b                                0                          5   \n",
       "fakt_ba                               0                          0   \n",
       "fakt_baa                              0                          0   \n",
       "fakt_bab                              0                          0   \n",
       "fakt_bac                              0                          1   \n",
       "\n",
       "          [orth=\"(;)\"][orth=\"(iĹĽ)\"]  [orth=\"(;)\"][orth=\"(ktĂłry)\"]  \\\n",
       "fakt_b                             1                              6   \n",
       "fakt_ba                            0                              7   \n",
       "fakt_baa                           0                              7   \n",
       "fakt_bab                           0                              0   \n",
       "fakt_bac                           0                              8   \n",
       "\n",
       "          [orth=\"(;)\"][orth=\"(ĹĽe)\"]  [orth=\"(;)\"][orth=\"(ĹĽeby)\"]   typ  \n",
       "fakt_b                            30                             4  fakt  \n",
       "fakt_ba                           45                             7  fakt  \n",
       "fakt_baa                          41                             3  fakt  \n",
       "fakt_bab                          30                             0  fakt  \n",
       "fakt_bac                          21                             0  fakt  \n",
       "\n",
       "[5 rows x 55 columns]"
      ]
     },
     "execution_count": 2,
     "metadata": {},
     "output_type": "execute_result"
    }
   ],
   "source": [
    "#loading dataset\n",
    "typologia=pd.read_csv(\"C:/Users/Maria/Documents/wyniki/typologia_Bajena6.csv\", index_col=0, sep=';')\n",
    "df = pd.DataFrame(typologia)\n",
    "df.head()"
   ]
  },
  {
   "cell_type": "code",
   "execution_count": 3,
   "metadata": {
    "collapsed": true
   },
   "outputs": [
    {
     "name": "stdout",
     "output_type": "stream",
     "text": [
      "<class 'pandas.core.frame.DataFrame'>\n",
      "Index: 1326 entries, fakt_b to urzed_jj\n",
      "Data columns (total 55 columns):\n",
      "[person=\"(pri)\"]                                                1326 non-null int64\n",
      "[person=\"(sec)\"]                                                1326 non-null int64\n",
      "[case=\"(nom)\"]                                                  1326 non-null int64\n",
      "[case=\"(gen)\"]                                                  1326 non-null int64\n",
      "[case=\"(dat)\"]                                                  1326 non-null int64\n",
      "[case=\"(acc)\"]                                                  1326 non-null int64\n",
      "[case=\"(inst)\"]                                                 1326 non-null int64\n",
      "[case=\"(loc)\"]                                                  1326 non-null int64\n",
      "[case=\"(voc)\"]                                                  1326 non-null int64\n",
      "[pos=\"(adj)\"][degree=\"(com)\"]                                   1326 non-null int64\n",
      "[degree=\"(sup)\"]                                                1326 non-null int64\n",
      "[pos=\"(adj)\"][pos=\"(subst)\"]                                    1326 non-null int64\n",
      "[pos=\"(adj)\"]                                                   1326 non-null int64\n",
      "[pos=\"(adja)\"]                                                  1326 non-null int64\n",
      "[pos=\"(adjp)\"]                                                  1326 non-null int64\n",
      "[pos=\"(adv)\"]                                                   1326 non-null int64\n",
      "[pos=\"(bedzie)\"][pos=\"(inf)\"]                                   1326 non-null int64\n",
      "[pos=\"(bedzie)\"][pos=\"(praet)\"]                                 1326 non-null int64\n",
      "[pos=\"(bedzie)\"]                                                1326 non-null int64\n",
      "[pos=\"(xxx)\"]                                                   1326 non-null int64\n",
      "[pos=\"(conj)\"]                                                  1326 non-null int64\n",
      "[pos=\"(depr)\"]                                                  1326 non-null int64\n",
      "[pos=\"(fin)\"]                                                   1326 non-null int64\n",
      "[pos=\"(ger)\"]                                                   1326 non-null int64\n",
      "[pos=\"(ger)\"][pos=\"(pred)\"]                                     1326 non-null int64\n",
      "[pos=\"(imps)\"]                                                  1326 non-null int64\n",
      "[pos=\"(impt)\"]                                                  1326 non-null int64\n",
      "[pos=\"(inf)\"][pos=\"bedzie\"]                                     1326 non-null int64\n",
      "[pos=\"(inf)\"]                                                   1326 non-null int64\n",
      "[pos=\"(num)\"]                                                   1326 non-null int64\n",
      "[pos=\"(pact)\"]                                                  1326 non-null int64\n",
      "[pos=\"(pant)\"]                                                  1326 non-null int64\n",
      "[pos=\"(pcon)\"]                                                  1326 non-null int64\n",
      "[pos=\"(ppas)\"]                                                  1326 non-null int64\n",
      "[pos=\"(ppas)\"][base=\"przez\"]                                    1326 non-null int64\n",
      "[pos=\"(ppron3)\"]                                                1326 non-null int64\n",
      "[pos=\"(praet)\"][pos=\"(bedzie)\"]                                 1326 non-null int64\n",
      "[pos=\"(praet)\"]                                                 1326 non-null int64\n",
      "[pos=\"(pred)\"]                                                  1326 non-null int64\n",
      "[pos=\"(prep)\"]                                                  1326 non-null int64\n",
      "[pos=\"(siebie)\"]                                                1326 non-null int64\n",
      "[pos=\"(subst)\"]                                                 1326 non-null int64\n",
      "[pos=\"(subst)\"][pos=\"(adj)\"]                                    1326 non-null int64\n",
      "[pos=\"(winien)\"]                                                1326 non-null int64\n",
      "[pos=\"(subst)\"][pos=\"(subst)\"][pos=\"(subst)\"][pos=\"(subst)\"]    1326 non-null int64\n",
      "[orth=\"(;)\"]                                                    1326 non-null int64\n",
      "[orth=\"(;)\"][orth=\"(aby)\"]                                      1326 non-null int64\n",
      "[orth=\"(;)\"][orth=\"(albowiem)\"]                                 1326 non-null int64\n",
      "[orth=\"(;)\"][orth=\"(bowiem)\"]                                   1326 non-null int64\n",
      "[orth=\"(;)\"][orth=\"(by)\"]                                       1326 non-null int64\n",
      "[orth=\"(;)\"][orth=\"(iĹĽ)\"]                                      1326 non-null int64\n",
      "[orth=\"(;)\"][orth=\"(ktĂłry)\"]                                   1326 non-null int64\n",
      "[orth=\"(;)\"][orth=\"(ĹĽe)\"]                                      1326 non-null int64\n",
      "[orth=\"(;)\"][orth=\"(ĹĽeby)\"]                                    1326 non-null int64\n",
      "typ                                                             1326 non-null object\n",
      "dtypes: int64(54), object(1)\n",
      "memory usage: 580.1+ KB\n"
     ]
    }
   ],
   "source": [
    "df.info()"
   ]
  },
  {
   "cell_type": "code",
   "execution_count": 4,
   "metadata": {
    "collapsed": true
   },
   "outputs": [
    {
     "data": {
      "text/plain": [
       "array(['fakt', 'infpor', 'konwers', 'lit', 'ndksiazka', 'netinterakt',\n",
       "       'net_nieint', 'nklasksiazka', 'publ', 'qmow', 'urzed'],\n",
       "      dtype=object)"
      ]
     },
     "execution_count": 4,
     "metadata": {},
     "output_type": "execute_result"
    }
   ],
   "source": [
    "df['typ'].unique()"
   ]
  },
  {
   "cell_type": "code",
   "execution_count": 5,
   "metadata": {},
   "outputs": [],
   "source": [
    "label_typ=LabelEncoder()"
   ]
  },
  {
   "cell_type": "code",
   "execution_count": 6,
   "metadata": {},
   "outputs": [],
   "source": [
    "df['typ'] = label_typ.fit_transform(df['typ'])"
   ]
  },
  {
   "cell_type": "code",
   "execution_count": 7,
   "metadata": {
    "collapsed": true
   },
   "outputs": [
    {
     "data": {
      "text/plain": [
       "8     175\n",
       "10    150\n",
       "9     150\n",
       "6     150\n",
       "3     150\n",
       "1     150\n",
       "2     141\n",
       "0     105\n",
       "4      93\n",
       "5      37\n",
       "7      25\n",
       "Name: typ, dtype: int64"
      ]
     },
     "execution_count": 7,
     "metadata": {},
     "output_type": "execute_result"
    }
   ],
   "source": [
    "df['typ'].value_counts()"
   ]
  },
  {
   "cell_type": "code",
   "execution_count": 8,
   "metadata": {},
   "outputs": [
    {
     "data": {
      "text/plain": [
       "<matplotlib.axes._subplots.AxesSubplot at 0x2263105bac8>"
      ]
     },
     "execution_count": 8,
     "metadata": {},
     "output_type": "execute_result"
    },
    {
     "data": {
      "image/png": "[encoded data removed]",
      "text/plain": [
       "<Figure size 432x288 with 1 Axes>"
      ]
     },
     "metadata": {
      "needs_background": "light"
     },
     "output_type": "display_data"
    }
   ],
   "source": [
    "sns.countplot(df['typ'])"
   ]
  },
  {
   "cell_type": "code",
   "execution_count": 9,
   "metadata": {},
   "outputs": [],
   "source": [
    "#Now separate the dataset as response variable and feature variables\n",
    "X = df.drop('typ', axis=1)\n",
    "y = df['typ']"
   ]
  },
  {
   "cell_type": "code",
   "execution_count": 10,
   "metadata": {},
   "outputs": [],
   "source": [
    "#Train and Test splitting of data\n",
    "X_train, X_test, y_train, y_test = train_test_split(X, y, test_size = 0.3, random_state = 42)"
   ]
  },
  {
   "cell_type": "code",
   "execution_count": 11,
   "metadata": {},
   "outputs": [
    {
     "name": "stderr",
     "output_type": "stream",
     "text": [
      "C:\\Users\\Maria\\AppData\\Local\\Continuum\\anaconda3\\lib\\site-packages\\sklearn\\preprocessing\\data.py:645: DataConversionWarning: Data with input dtype int64 were all converted to float64 by StandardScaler.\n",
      "  return self.partial_fit(X, y)\n",
      "C:\\Users\\Maria\\AppData\\Local\\Continuum\\anaconda3\\lib\\site-packages\\sklearn\\base.py:464: DataConversionWarning: Data with input dtype int64 were all converted to float64 by StandardScaler.\n",
      "  return self.fit(X, **fit_params).transform(X)\n",
      "C:\\Users\\Maria\\AppData\\Local\\Continuum\\anaconda3\\lib\\site-packages\\ipykernel_launcher.py:4: DataConversionWarning: Data with input dtype int64 were all converted to float64 by StandardScaler.\n",
      "  after removing the cwd from sys.path.\n"
     ]
    }
   ],
   "source": [
    "#Applying Standard scaling to get optimized results\n",
    "sc = StandardScaler()\n",
    "X_train = sc.fit_transform(X_train)\n",
    "X_test = sc.transform(X_test)"
   ]
  },
  {
   "cell_type": "code",
   "execution_count": 1,
   "metadata": {},
   "outputs": [
    {
     "ename": "NameError",
     "evalue": "name 'X_train' is not defined",
     "output_type": "error",
     "traceback": [
      "\u001b[1;31m---------------------------------------------------------------------------\u001b[0m",
      "\u001b[1;31mNameError\u001b[0m                                 Traceback (most recent call last)",
      "\u001b[1;32m<ipython-input-1-e1b66f4166f4>\u001b[0m in \u001b[0;36m<module>\u001b[1;34m\u001b[0m\n\u001b[1;32m----> 1\u001b[1;33m \u001b[0mX_train\u001b[0m\u001b[1;33m[\u001b[0m\u001b[1;33m:\u001b[0m\u001b[1;36m10\u001b[0m\u001b[1;33m]\u001b[0m\u001b[1;33m.\u001b[0m\u001b[0mhead\u001b[0m\u001b[1;33m(\u001b[0m\u001b[1;33m)\u001b[0m\u001b[1;33m\u001b[0m\u001b[1;33m\u001b[0m\u001b[0m\n\u001b[0m",
      "\u001b[1;31mNameError\u001b[0m: name 'X_train' is not defined"
     ]
    }
   ],
   "source": [
    "X_train[:10]"
   ]
  },
  {
   "cell_type": "markdown",
   "metadata": {},
   "source": [
    "# Random Forest Classifier"
   ]
  },
  {
   "cell_type": "code",
   "execution_count": 13,
   "metadata": {},
   "outputs": [],
   "source": [
    "rfc = RandomForestClassifier(n_estimators=200)\n",
    "rfc.fit(X_train, y_train)\n",
    "pred_rfc = rfc.predict(X_test)"
   ]
  },
  {
   "cell_type": "code",
   "execution_count": 14,
   "metadata": {},
   "outputs": [
    {
     "name": "stdout",
     "output_type": "stream",
     "text": [
      "              precision    recall  f1-score   support\n",
      "\n",
      "           0       0.56      0.76      0.64        25\n",
      "           1       0.88      0.90      0.89        42\n",
      "           2       1.00      1.00      1.00        56\n",
      "           3       0.85      0.83      0.84        47\n",
      "           4       0.90      0.82      0.86        34\n",
      "           5       1.00      0.12      0.22         8\n",
      "           6       0.82      0.92      0.87        39\n",
      "           7       0.00      0.00      0.00         8\n",
      "           8       0.71      0.76      0.74        55\n",
      "           9       1.00      1.00      1.00        40\n",
      "          10       1.00      1.00      1.00        44\n",
      "\n",
      "   micro avg       0.86      0.86      0.86       398\n",
      "   macro avg       0.79      0.74      0.73       398\n",
      "weighted avg       0.86      0.86      0.85       398\n",
      "\n",
      "[[19  0  0  5  0  0  0  0  1  0  0]\n",
      " [ 0 38  0  0  0  0  1  0  3  0  0]\n",
      " [ 0  0 56  0  0  0  0  0  0  0  0]\n",
      " [ 7  0  0 39  0  0  1  0  0  0  0]\n",
      " [ 0  2  0  0 28  0  1  0  3  0  0]\n",
      " [ 0  2  0  1  0  1  0  0  4  0  0]\n",
      " [ 0  1  0  0  0  0 36  0  2  0  0]\n",
      " [ 3  0  0  0  0  0  1  0  4  0  0]\n",
      " [ 5  0  0  1  3  0  4  0 42  0  0]\n",
      " [ 0  0  0  0  0  0  0  0  0 40  0]\n",
      " [ 0  0  0  0  0  0  0  0  0  0 44]]\n"
     ]
    },
    {
     "name": "stderr",
     "output_type": "stream",
     "text": [
      "C:\\Users\\Maria\\AppData\\Local\\Continuum\\anaconda3\\lib\\site-packages\\sklearn\\metrics\\classification.py:1143: UndefinedMetricWarning: Precision and F-score are ill-defined and being set to 0.0 in labels with no predicted samples.\n",
      "  'precision', 'predicted', average, warn_for)\n"
     ]
    }
   ],
   "source": [
    "#How well the model performed\n",
    "print(classification_report(y_test, pred_rfc))\n",
    "print(confusion_matrix(y_test, pred_rfc))"
   ]
  },
  {
   "cell_type": "markdown",
   "metadata": {},
   "source": [
    "# SVM Classifier"
   ]
  },
  {
   "cell_type": "code",
   "execution_count": 15,
   "metadata": {},
   "outputs": [],
   "source": [
    "clf=svm.SVC()\n",
    "clf.fit(X_train, y_train)\n",
    "pred_clf = clf.predict(X_test)"
   ]
  },
  {
   "cell_type": "code",
   "execution_count": 16,
   "metadata": {},
   "outputs": [
    {
     "name": "stdout",
     "output_type": "stream",
     "text": [
      "              precision    recall  f1-score   support\n",
      "\n",
      "           0       0.46      0.68      0.55        25\n",
      "           1       0.84      0.86      0.85        42\n",
      "           2       1.00      0.98      0.99        56\n",
      "           3       0.89      0.85      0.87        47\n",
      "           4       0.76      0.76      0.76        34\n",
      "           5       0.00      0.00      0.00         8\n",
      "           6       0.92      0.90      0.91        39\n",
      "           7       0.00      0.00      0.00         8\n",
      "           8       0.69      0.82      0.75        55\n",
      "           9       1.00      0.95      0.97        40\n",
      "          10       1.00      0.98      0.99        44\n",
      "\n",
      "   micro avg       0.84      0.84      0.84       398\n",
      "   macro avg       0.69      0.71      0.69       398\n",
      "weighted avg       0.83      0.84      0.83       398\n",
      "\n",
      "[[17  0  0  4  0  0  0  0  4  0  0]\n",
      " [ 0 36  0  0  2  0  0  0  4  0  0]\n",
      " [ 0  0 55  0  1  0  0  0  0  0  0]\n",
      " [ 6  0  0 40  0  0  1  0  0  0  0]\n",
      " [ 2  3  0  0 26  0  0  0  3  0  0]\n",
      " [ 0  2  0  1  0  0  0  0  5  0  0]\n",
      " [ 1  1  0  0  0  0 35  0  2  0  0]\n",
      " [ 5  0  0  0  1  0  0  0  2  0  0]\n",
      " [ 6  1  0  0  1  0  2  0 45  0  0]\n",
      " [ 0  0  0  0  2  0  0  0  0 38  0]\n",
      " [ 0  0  0  0  1  0  0  0  0  0 43]]\n"
     ]
    },
    {
     "name": "stderr",
     "output_type": "stream",
     "text": [
      "C:\\Users\\Maria\\AppData\\Local\\Continuum\\anaconda3\\lib\\site-packages\\sklearn\\metrics\\classification.py:1143: UndefinedMetricWarning: Precision and F-score are ill-defined and being set to 0.0 in labels with no predicted samples.\n",
      "  'precision', 'predicted', average, warn_for)\n"
     ]
    }
   ],
   "source": [
    "#How well the model performed\n",
    "print(classification_report(y_test, pred_clf))\n",
    "print(confusion_matrix(y_test, pred_clf))"
   ]
  },
  {
   "cell_type": "markdown",
   "metadata": {},
   "source": [
    "# Neural Network"
   ]
  },
  {
   "cell_type": "code",
   "execution_count": 17,
   "metadata": {},
   "outputs": [],
   "source": [
    "mlpc=MLPClassifier(hidden_layer_sizes=(50,50,50), max_iter=10000)\n",
    "mlpc.fit(X_train, y_train)\n",
    "pred_mlpc = mlpc.predict(X_test)"
   ]
  },
  {
   "cell_type": "code",
   "execution_count": 18,
   "metadata": {},
   "outputs": [
    {
     "name": "stdout",
     "output_type": "stream",
     "text": [
      "              precision    recall  f1-score   support\n",
      "\n",
      "           0       0.38      0.52      0.44        25\n",
      "           1       0.84      0.74      0.78        42\n",
      "           2       1.00      1.00      1.00        56\n",
      "           3       0.93      0.79      0.85        47\n",
      "           4       0.77      0.71      0.74        34\n",
      "           5       0.27      0.50      0.35         8\n",
      "           6       0.90      0.90      0.90        39\n",
      "           7       0.67      0.25      0.36         8\n",
      "           8       0.64      0.71      0.67        55\n",
      "           9       1.00      0.90      0.95        40\n",
      "          10       0.96      1.00      0.98        44\n",
      "\n",
      "   micro avg       0.81      0.81      0.81       398\n",
      "   macro avg       0.76      0.73      0.73       398\n",
      "weighted avg       0.83      0.81      0.81       398\n",
      "\n",
      "[[13  2  0  3  0  0  1  1  5  0  0]\n",
      " [ 0 31  0  0  1  3  0  0  7  0  0]\n",
      " [ 0  0 56  0  0  0  0  0  0  0  0]\n",
      " [ 8  0  0 37  0  0  1  0  1  0  0]\n",
      " [ 3  0  0  0 24  4  0  0  2  0  1]\n",
      " [ 0  1  0  0  0  4  0  0  3  0  0]\n",
      " [ 2  1  0  0  0  0 35  0  1  0  0]\n",
      " [ 3  0  0  0  0  0  0  2  3  0  0]\n",
      " [ 4  2  0  0  5  3  2  0 39  0  0]\n",
      " [ 1  0  0  0  1  1  0  0  0 36  1]\n",
      " [ 0  0  0  0  0  0  0  0  0  0 44]]\n"
     ]
    }
   ],
   "source": [
    "#How well the model performed\n",
    "print(classification_report(y_test, pred_mlpc))\n",
    "print(confusion_matrix(y_test, pred_mlpc))"
   ]
  },
  {
   "cell_type": "code",
   "execution_count": null,
   "metadata": {},
   "outputs": [],
   "source": []
  },
  {
   "cell_type": "markdown",
   "metadata": {},
   "source": [
    "# Bayes"
   ]
  },
  {
   "cell_type": "code",
   "execution_count": 19,
   "metadata": {},
   "outputs": [
    {
     "name": "stdout",
     "output_type": "stream",
     "text": [
      "BernoulliNB(alpha=1.0, binarize=True, class_prior=None, fit_prior=True)\n"
     ]
    }
   ],
   "source": [
    "from sklearn.naive_bayes import BernoulliNB\n",
    "BernNB = BernoulliNB(binarize = True)\n",
    "BernNB.fit(X_train, y_train)\n",
    "print(BernNB)"
   ]
  },
  {
   "cell_type": "code",
   "execution_count": 20,
   "metadata": {},
   "outputs": [],
   "source": [
    "y_expect = y_test\n",
    "pred_NB = BernNB.predict(X_test)"
   ]
  },
  {
   "cell_type": "markdown",
   "metadata": {},
   "source": [
    "# Accuracy Results Summary"
   ]
  },
  {
   "cell_type": "code",
   "execution_count": 21,
   "metadata": {},
   "outputs": [
    {
     "name": "stdout",
     "output_type": "stream",
     "text": [
      "Accuracy Random Forest:  0.8618090452261307\n",
      "Accuracy SVM:  0.8417085427135679\n",
      "Accuracy Neural Network:  0.8065326633165829\n",
      "Accuracy Bayes:  0.7361809045226131\n"
     ]
    }
   ],
   "source": [
    "from sklearn.metrics import accuracy_score\n",
    "accuracy_rfc = accuracy_score(y_test, pred_rfc)\n",
    "accuracy_clf = accuracy_score(y_test, pred_clf)\n",
    "accuracy_mlpc = accuracy_score(y_test, pred_mlpc)\n",
    "accuracy_NB = accuracy_score(y_test, pred_NB)\n",
    "\n",
    "print(\"Accuracy Random Forest: \", accuracy_rfc)\n",
    "print(\"Accuracy SVM: \", accuracy_clf)\n",
    "print(\"Accuracy Neural Network: \", accuracy_mlpc)\n",
    "print(\"Accuracy Bayes: \", accuracy_NB)\n",
    "\n"
   ]
  }
 ],
 "metadata": {
  "kernelspec": {
   "display_name": "Python 3",
   "language": "python",
   "name": "python3"
  },
  "language_info": {
   "codemirror_mode": {
    "name": "ipython",
    "version": 3
   },
   "file_extension": ".py",
   "mimetype": "text/x-python",
   "name": "python",
   "nbconvert_exporter": "python",
   "pygments_lexer": "ipython3",
   "version": "3.7.3"
  }
 },
 "nbformat": 4,
 "nbformat_minor": 2
}
